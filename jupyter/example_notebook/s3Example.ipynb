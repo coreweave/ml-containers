{
 "cells": [
  {
   "cell_type": "markdown",
   "metadata": {},
   "source": [
    "This example shows accessing of Coreweave's s3 object storage using the boto3 library.\n",
    "\n",
    "Restart your kernal after running the following block"
   ]
  },
  {
   "cell_type": "code",
   "execution_count": null,
   "metadata": {},
   "outputs": [],
   "source": [
    "%pip install boto3"
   ]
  },
  {
   "cell_type": "code",
   "execution_count": null,
   "metadata": {},
   "outputs": [],
   "source": [
    "import os\n",
    "import boto3\n",
    "\n",
    "#defining the credentials\n",
    "ACCESS_KEY = 'your_access_key'\n",
    "SECRET_KEY = 'your_secret_key'\n",
    "REGION_NAME = 'ord1'\n",
    "ENDPOINT_URL = 'http://object.ord1.coreweave.com'\n",
    "BUCKET_NAME = 'ml-datasets'\n",
    "\n",
    "#creating the client\n",
    "client = boto3.client(\"s3\", aws_access_key_id=ACCESS_KEY,\n",
    "    aws_secret_access_key=SECRET_KEY,\n",
    "    region_name=REGION_NAME, endpoint_url=ENDPOINT_URL)"
   ]
  },
  {
   "cell_type": "code",
   "execution_count": null,
   "metadata": {},
   "outputs": [],
   "source": [
    "#listing all the buckets\n",
    "response = client.list_buckets()\n",
    "print(\"Listing S3 Buckets:\")\n",
    "for bucket in response['Buckets']:\n",
    "    print(f\"-- {bucket['Name']}\")"
   ]
  },
  {
   "cell_type": "code",
   "execution_count": null,
   "metadata": {},
   "outputs": [],
   "source": [
    "#listing all files in a bucket\n",
    "\n",
    "objects = client.list_objects_v2(Bucket=BUCKET_NAME)\n",
    "\n",
    "for obj in objects['Contents']:\n",
    "    print(obj['Key'])"
   ]
  },
  {
   "cell_type": "code",
   "execution_count": null,
   "metadata": {},
   "outputs": [],
   "source": [
    "# List objects at the top level of the bucket\n",
    "response = client.list_objects_v2(Bucket=BUCKET_NAME, Delimiter='/')\n",
    "\n",
    "# Iterate through the top-level objects\n",
    "for obj in response.get('Contents', []):\n",
    "    print(f'Top-level object: {obj[\"Key\"]}')\n",
    "#Iterate through the top-level directories\n",
    "for common_prefix in response.get('CommonPrefixes', []):\n",
    "    print(f'Top-level folder: {common_prefix[\"Prefix\"]}')"
   ]
  },
  {
   "cell_type": "code",
   "execution_count": null,
   "metadata": {},
   "outputs": [],
   "source": [
    "# Upload a directory to the bucket\n",
    "\n",
    "local_directory = './example_notebook'\n",
    "# Walk through the local directory and upload each file\n",
    "for root, dirs, files in os.walk(local_directory):\n",
    "    for file in files:\n",
    "        local_path = os.path.join(root, file)\n",
    "        s3_path = os.path.relpath(local_path, local_directory)\n",
    "        client.upload_file(local_path, BUCKET_NAME, s3_path)\n",
    "        print(f'Uploaded {local_path} to S3://{BUCKET_NAME}/{s3_path}')"
   ]
  },
  {
   "cell_type": "code",
   "execution_count": null,
   "metadata": {},
   "outputs": [],
   "source": [
    "# Download a directory from the bucket to local system\n",
    "s3_directory = 'Author/Albert_Bushnell_Hart'\n",
    "local_directory = './Albert_Bushnell_Hart'\n",
    "\n",
    "# List objects in the S3 directory\n",
    "objects = client.list_objects_v2(Bucket='ml-datasets', Prefix=s3_directory)\n",
    "\n",
    "# Iterate through objects and download each one\n",
    "for obj in objects.get('Contents', []):\n",
    "    s3_path = obj['Key']\n",
    "    local_path = os.path.join(local_directory, os.path.relpath(s3_path, s3_directory))\n",
    "    os.makedirs(os.path.dirname(local_path), exist_ok=True)\n",
    "    client.download_file(BUCKET_NAME, s3_path, local_path)\n",
    "    print(f'Downloaded S3://{BUCKET_NAME}/{s3_path} to {local_path}')"
   ]
  },
  {
   "cell_type": "code",
   "execution_count": null,
   "metadata": {},
   "outputs": [],
   "source": [
    "# Set the bucket name and directory path to delete\n",
    "directory_path = 'folderToDelete'\n",
    "\n",
    "# List objects in the directory\n",
    "objects = client.list_objects_v2(Bucket=BUCKET_NAME, Prefix=directory_path)\n",
    "\n",
    "# Delete each object (file) in the directory\n",
    "for obj in objects.get('Contents', []):\n",
    "    client.delete_object(Bucket=BUCKET_NAME, Key=obj['Key'])\n",
    "    print(f'Deleted: S3://{BUCKET_NAME}/{obj[\"Key\"]}')\n",
    "\n",
    "# Delete the directory itself\n",
    "client.delete_object(Bucket=BUCKET_NAME, Key=directory_path)\n",
    "print(f'Deleted directory: S3://{BUCKET_NAME}/{directory_path}')"
   ]
  }
 ],
 "metadata": {
  "language_info": {
   "name": "python"
  },
  "orig_nbformat": 4
 },
 "nbformat": 4,
 "nbformat_minor": 2
}
