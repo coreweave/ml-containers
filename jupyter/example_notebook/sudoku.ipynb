{
 "cells": [
  {
   "cell_type": "markdown",
   "metadata": {},
   "source": [
    "This example shows a sudoku autosolver found here: \n",
    "https://notebook.community/IBMDecisionOptimization/docplex-examples/examples/cp/jupyter/sudoku\n",
    "\n",
    "Restart the kernal after running the following block."
   ]
  },
  {
   "cell_type": "code",
   "execution_count": null,
   "metadata": {},
   "outputs": [],
   "source": [
    "import sys\n",
    "try:\n",
    "    import docplex.cp\n",
    "except:\n",
    "    if hasattr(sys, 'real_prefix'):\n",
    "        #we are in a virtual env.\n",
    "        %pip install docplex\n",
    "        %pip install cplex\n",
    "    else:\n",
    "        %pip install --user docplex\n",
    "        %pip install --user cplex"
   ]
  },
  {
   "cell_type": "code",
   "execution_count": null,
   "metadata": {},
   "outputs": [],
   "source": [
    "from docplex.cp.model import *\n",
    "from sys import stdout"
   ]
  },
  {
   "cell_type": "code",
   "execution_count": null,
   "metadata": {},
   "outputs": [],
   "source": [
    "GRNG = range(9)"
   ]
  },
  {
   "cell_type": "code",
   "execution_count": null,
   "metadata": {},
   "outputs": [],
   "source": [
    "SUDOKU_PROBLEM_1 = ( (0, 0, 0,  0, 9, 0,  1, 0, 0),\n",
    "                     (2, 8, 0,  0, 0, 5,  0, 0, 0),\n",
    "                     (7, 0, 0,  0, 0, 6,  4, 0, 0),\n",
    "                     (8, 0, 5,  0, 0, 3,  0, 0, 6),\n",
    "                     (0, 0, 1,  0, 0, 4,  0, 0, 0),\n",
    "                     (0, 7, 0,  2, 0, 0,  0, 0, 0),\n",
    "                     (3, 0, 0,  0, 0, 1,  0, 8, 0),\n",
    "                     (0, 0, 0,  0, 0, 0,  0, 5, 0),\n",
    "                     (0, 9, 0,  0, 0, 0,  0, 7, 0),\n",
    "                   )\n",
    "\n",
    "SUDOKU_PROBLEM_2 = ( (0, 7, 0,  0, 0, 0,  0, 4, 9),\n",
    "                     (0, 0, 0,  4, 0, 0,  0, 0, 0),\n",
    "                     (4, 0, 3,  5, 0, 7,  0, 0, 8),\n",
    "                     (0, 0, 7,  2, 5, 0,  4, 0, 0),\n",
    "                     (0, 0, 0,  0, 0, 0,  8, 0, 0),\n",
    "                     (0, 0, 4,  0, 3, 0,  5, 9, 2),\n",
    "                     (6, 1, 8,  0, 0, 0,  0, 0, 5),\n",
    "                     (0, 9, 0,  1, 0, 0,  0, 3, 0),\n",
    "                     (0, 0, 5,  0, 0, 0,  0, 0, 7),\n",
    "                   )\n",
    "\n",
    "SUDOKU_PROBLEM_3 = ( (0, 0, 0,  0, 0, 6,  0, 0, 0),\n",
    "                     (0, 5, 9,  0, 0, 0,  0, 0, 8),\n",
    "                     (2, 0, 0,  0, 0, 8,  0, 0, 0),\n",
    "                     (0, 4, 5,  0, 0, 0,  0, 0, 0),\n",
    "                     (0, 0, 3,  0, 0, 0,  0, 0, 0),\n",
    "                     (0, 0, 6,  0, 0, 3,  0, 5, 4),\n",
    "                     (0, 0, 0,  3, 2, 5,  0, 0, 6),\n",
    "                     (0, 0, 0,  0, 0, 0,  0, 0, 0),\n",
    "                     (0, 0, 0,  0, 0, 0,  0, 0, 0)\n",
    "                    )"
   ]
  },
  {
   "cell_type": "code",
   "execution_count": null,
   "metadata": {},
   "outputs": [],
   "source": [
    "try:\n",
    "    import numpy as np\n",
    "    import matplotlib.pyplot as plt\n",
    "    VISU_ENABLED = True\n",
    "except ImportError:\n",
    "    VISU_ENABLED = False"
   ]
  },
  {
   "cell_type": "code",
   "execution_count": null,
   "metadata": {},
   "outputs": [],
   "source": [
    "def print_grid(grid):\n",
    "    \"\"\" Print Sudoku grid \"\"\"\n",
    "    for l in GRNG:\n",
    "        if (l > 0) and (l % 3 == 0):\n",
    "           stdout.write('\\n')\n",
    "        for c in GRNG:\n",
    "            v = grid[l][c]\n",
    "            stdout.write('   ' if (c % 3 == 0) else ' ')\n",
    "            stdout.write(str(v) if v > 0 else '.')\n",
    "        stdout.write('\\n')"
   ]
  },
  {
   "cell_type": "code",
   "execution_count": null,
   "metadata": {},
   "outputs": [],
   "source": [
    "def draw_grid(values):\n",
    "    %matplotlib inline\n",
    "    fig, ax = plt.subplots(figsize =(4,4))\n",
    "    min_val, max_val = 0, 9\n",
    "    R =  range(0,9)\n",
    "    for l in R:\n",
    "        for c in R:\n",
    "            v = values[c][l]\n",
    "            s = \" \"\n",
    "            if v > 0:\n",
    "                s = str(v)\n",
    "            ax.text(l+0.5,8.5-c, s, va='center', ha='center')\n",
    "        ax.set_xlim(min_val, max_val)\n",
    "    ax.set_ylim(min_val, max_val)\n",
    "    ax.set_xticks(np.arange(max_val))\n",
    "    ax.set_yticks(np.arange(max_val))\n",
    "    ax.grid()\n",
    "    plt.show()"
   ]
  },
  {
   "cell_type": "code",
   "execution_count": null,
   "metadata": {},
   "outputs": [],
   "source": [
    "def display_grid(grid, name):\n",
    "    stdout.write(name)\n",
    "    stdout.write(\":\\n\")\n",
    "    if VISU_ENABLED:\n",
    "        draw_grid(grid)\n",
    "    else:\n",
    "        print_grid(grid)"
   ]
  },
  {
   "cell_type": "code",
   "execution_count": null,
   "metadata": {},
   "outputs": [],
   "source": [
    "display_grid(SUDOKU_PROBLEM_1, \"PROBLEM 1\")\n",
    "display_grid(SUDOKU_PROBLEM_2, \"PROBLEM 2\")\n",
    "display_grid(SUDOKU_PROBLEM_3, \"PROBLEM 3\")"
   ]
  },
  {
   "cell_type": "code",
   "execution_count": null,
   "metadata": {},
   "outputs": [],
   "source": [
    "problem = SUDOKU_PROBLEM_3"
   ]
  },
  {
   "cell_type": "code",
   "execution_count": null,
   "metadata": {},
   "outputs": [],
   "source": [
    "mdl = CpoModel(name=\"Sudoku\")"
   ]
  },
  {
   "cell_type": "code",
   "execution_count": null,
   "metadata": {},
   "outputs": [],
   "source": [
    "grid = [[integer_var(min=1, max=9, name=\"C\" + str(l) + str(c)) for l in GRNG] for c in GRNG]"
   ]
  },
  {
   "cell_type": "code",
   "execution_count": null,
   "metadata": {},
   "outputs": [],
   "source": [
    "for l in GRNG:\n",
    "    mdl.add(all_diff([grid[l][c] for c in GRNG]))"
   ]
  },
  {
   "cell_type": "code",
   "execution_count": null,
   "metadata": {},
   "outputs": [],
   "source": [
    "for c in GRNG:\n",
    "    mdl.add(all_diff([grid[l][c] for l in GRNG]))"
   ]
  },
  {
   "cell_type": "code",
   "execution_count": null,
   "metadata": {},
   "outputs": [],
   "source": [
    "ssrng = range(0, 9, 3)\n",
    "for sl in ssrng:\n",
    "    for sc in ssrng:\n",
    "        mdl.add(all_diff([grid[l][c] for l in range(sl, sl + 3) for c in range(sc, sc + 3)]))"
   ]
  },
  {
   "cell_type": "code",
   "execution_count": null,
   "metadata": {},
   "outputs": [],
   "source": [
    "for l in GRNG:\n",
    "    for c in GRNG:\n",
    "        v = problem[l][c]\n",
    "        if v > 0:\n",
    "            grid[l][c].set_domain((v, v))"
   ]
  },
  {
   "cell_type": "code",
   "execution_count": null,
   "metadata": {},
   "outputs": [],
   "source": [
    "print(\"\\nSolving model....\")\n",
    "try:\n",
    "    msol = mdl.solve(TimeLimit=10)\n",
    "except:\n",
    "    %conda install -c ibmdecisionoptimization cplex\n",
    "    msol = mdl.solve(TimeLimit=10)"
   ]
  },
  {
   "cell_type": "code",
   "execution_count": null,
   "metadata": {},
   "outputs": [],
   "source": [
    "display_grid(problem, \"Initial problem\")\n",
    "if msol:\n",
    "    sol = [[msol[grid[l][c]] for c in GRNG] for l in GRNG]\n",
    "    stdout.write(\"Solve time: \" + str(msol.get_solve_time()) + \"\\n\")\n",
    "    display_grid(sol, \"Solution\")\n",
    "else:\n",
    "    stdout.write(\"No solution found\\n\")"
   ]
  }
 ],
 "metadata": {
  "language_info": {
   "name": "python"
  },
  "orig_nbformat": 4
 },
 "nbformat": 4,
 "nbformat_minor": 2
}
